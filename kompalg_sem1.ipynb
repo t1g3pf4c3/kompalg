{
  "nbformat": 4,
  "nbformat_minor": 0,
  "metadata": {
    "colab": {
      "name": "kompalg_sem1.ipynb",
      "provenance": [],
      "collapsed_sections": [],
      "authorship_tag": "ABX9TyNPtdoYEUDizje08x91wNLr",
      "include_colab_link": true
    },
    "kernelspec": {
      "name": "python3",
      "display_name": "Python 3"
    }
  },
  "cells": [
    {
      "cell_type": "markdown",
      "metadata": {
        "id": "view-in-github",
        "colab_type": "text"
      },
      "source": [
        "<a href=\"https://colab.research.google.com/github/t1g3pf4c3/kompalg/blob/main/kompalg_sem1.ipynb\" target=\"_parent\"><img src=\"https://colab.research.google.com/assets/colab-badge.svg\" alt=\"Open In Colab\"/></a>"
      ]
    },
    {
      "cell_type": "code",
      "metadata": {
        "id": "sUREEjrPHdOZ"
      },
      "source": [
        "class Rational:\n",
        "  def __init__(self,z,n=1):\n",
        "    self.z = z\n",
        "    self.n = n\n",
        "  \n",
        "  def __str__(self):\n",
        "    return str(self.z) + \"/\" + str(self.n)\n",
        "  \n",
        "  def normalize(self):\n",
        "    if (self.z < 0) or(self.n < 0):\n",
        "      self.z *= -1\n",
        "      self.n *= -1\n",
        "    \n",
        "    a = abs(self.n)\n",
        "    b = abs(self.z)\n",
        "    while a != 0 and b != 0:\n",
        "      if a > b:\n",
        "          a = a % b\n",
        "      else:\n",
        "          b = b % a\n",
        "    self.z//=a+b\n",
        "    self.n//=a+b"
      ],
      "execution_count": 60,
      "outputs": []
    },
    {
      "cell_type": "code",
      "metadata": {
        "colab": {
          "base_uri": "https://localhost:8080/"
        },
        "id": "OH7DmeAKH3u6",
        "outputId": "7a047bff-3182-41c5-efe7-bc89df1ec486"
      },
      "source": [
        "u = Rational(-2,4)\n",
        "p = Rational(1,2)\n",
        "u.normalize()\n",
        "print(u)"
      ],
      "execution_count": 61,
      "outputs": [
        {
          "output_type": "stream",
          "text": [
            "1/-2\n"
          ],
          "name": "stdout"
        }
      ]
    },
    {
      "cell_type": "code",
      "metadata": {
        "id": "UDrz7v51JZRM"
      },
      "source": [
        "import math"
      ],
      "execution_count": 17,
      "outputs": []
    },
    {
      "cell_type": "code",
      "metadata": {
        "id": "sduVAVOiKroW"
      },
      "source": [
        ""
      ],
      "execution_count": null,
      "outputs": []
    }
  ]
}