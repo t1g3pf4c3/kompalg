{
  "nbformat": 4,
  "nbformat_minor": 0,
  "metadata": {
    "colab": {
      "name": "kompalg_sem1.ipynb",
      "provenance": [],
      "collapsed_sections": [],
      "authorship_tag": "ABX9TyOLE4BHEgVdGbEocSKTn/uw",
      "include_colab_link": true
    },
    "kernelspec": {
      "name": "python3",
      "display_name": "Python 3"
    }
  },
  "cells": [
    {
      "cell_type": "markdown",
      "metadata": {
        "id": "view-in-github",
        "colab_type": "text"
      },
      "source": [
        "<a href=\"https://colab.research.google.com/github/t1g3pf4c3/kompalg/blob/main/kompalg_sem1.ipynb\" target=\"_parent\"><img src=\"https://colab.research.google.com/assets/colab-badge.svg\" alt=\"Open In Colab\"/></a>"
      ]
    },
    {
      "cell_type": "code",
      "metadata": {
        "id": "WowJwbbTCExP"
      },
      "source": [
        "import math\n",
        "def check(x):\n",
        "  if isinstance(x, int):\n",
        "    return x, 1\n",
        "  return x.a, x.b\n",
        "\n",
        "class Rational:\n",
        "  # def __init__(self,z,n=1, h=0):\n",
        "  def __init__(self,z,n=1):\n",
        "    self.z = z\n",
        "    self.n = n\n",
        "    # self.h = h\n",
        "  \n",
        "  def __str__(self):\n",
        "    # if (self.h == 0):\n",
        "    #   return str(self.z) + \"/\" + str(self.n)\n",
        "    # return str(self.h) + \" \" + str(self.z) + \"/\" + str(self.n)\n",
        "    return str(self.z) + \"/\" + str(self.n)\n",
        "  \n",
        "  def normalize(self):\n",
        "    if (self.n < 0 and self.z>0):\n",
        "      self.z *= -1\n",
        "      self.n *= -1\n",
        "    elif (self.n < 0 and self.z < 0):\n",
        "      self.z *= -1\n",
        "      self.n *= -1\n",
        "    \n",
        "    a = math.gcd(abs(self.z),abs(self.n))\n",
        "    \n",
        "    self.z //= a\n",
        "    self.n //= a\n",
        "    \n",
        "    # a = abs(self.n)\n",
        "    # b = abs(self.z)\n",
        "    # while a != 0 and b != 0:\n",
        "    #   if a > b:\n",
        "    #       a = a % b\n",
        "    #   else:\n",
        "    #       b = b % a\n",
        "    # self.z//=a+b \n",
        "    # self.n//=a+b\n",
        "\n",
        "  def __add__(self, x):\n",
        "    c, d = check(x)\n",
        "    return Rational(self.z * d + self.n * c, self.n * d)\n",
        "  \n",
        "  def __sub__(self,x):\n",
        "    c, d = check(x)\n",
        "    return Rational(self.z * d - self.n * c, self.n * d)\n",
        "  \n",
        "  def __truediv__(self, x):\n",
        "    c, d = check(x)\n",
        "    return Rational(self.z * d, self.n * c)\n",
        "  \n",
        "  def __mul__(self, x):\n",
        "    c, d = check(x)\n",
        "    return Rational(self.z * c, self.n * d)\n",
        "  \n",
        "  def __pow__(self,x):    \n",
        "    self.z **= x\n",
        "    self.n **= x\n",
        "    return self\n",
        "\n",
        "  def __neg__(self):\n",
        "    self.z *= -1\n",
        "    return self\n",
        "  \n",
        "  def __abs__(self):\n",
        "    self.z = abs(self.z)\n",
        "    self.n = abs(self.n)\n",
        "    return self\n",
        "  \n",
        "  def __iadd__(self,x):\n",
        "    c, d = check(x)\n",
        "    return Rational(self.z * d + self.n * c, self.n * d)\n",
        "  \n",
        "  def __isub__(self,x):\n",
        "    c, d = check(x)\n",
        "    return Rational(self.z * d - self.n * c, self.n * d)\n",
        "  \n",
        "  def __imul__(self,x):\n",
        "    c, d = check(x)\n",
        "    return Rational(self.z * c, self.n * d)\n",
        "  \n",
        "  def __itruediv__(self,x):\n",
        "    c, d = check(x)\n",
        "    return Rational(self.z * d, self.n * c)\n",
        "  \n",
        "  def __eq__(self, x):\n",
        "    c, d = check(x)\n",
        "    return self.z * d == self.n * c\n",
        "  \n",
        "  def __ne__(self, x):\n",
        "    c, d = check(x)\n",
        "    return self.z * d != self.n * c\n",
        "\n",
        "  def __gt__(self, x):\n",
        "      c, d = check(x)\n",
        "      return self.z * d > self.n * c\n",
        "  \n",
        "  def __lt__(self, x):\n",
        "      c, d = check(x)\n",
        "      return self.z * d < self.n * c\n",
        "  \n",
        "  def __ge__(self, x):\n",
        "      c, d = check(x)\n",
        "      return self.z * d >= self.n * c\n",
        "  \n",
        "  def __le__(self, x):\n",
        "      c, d = check(x)\n",
        "      return self.z * d <= self.n * c\n",
        "  \n",
        "  def evalf(self):\n",
        "      return self.z/self.n\n",
        "  \n",
        "  def toLatex(self):\n",
        "      print(\"\\dfrac{\" + str(self.z) +\"}{\" + str(self.n) + \"}\" )"
      ],
      "execution_count": 8,
      "outputs": []
    },
    {
      "cell_type": "code",
      "metadata": {
        "colab": {
          "base_uri": "https://localhost:8080/"
        },
        "id": "JTqrlQ4_CT1K",
        "outputId": "ce2ddf95-b758-44e9-9273-778cf29ae14c"
      },
      "source": [
        "u = Rational(7,3)\n",
        "print(u)\n",
        "u.toLatex()"
      ],
      "execution_count": 10,
      "outputs": [
        {
          "output_type": "stream",
          "text": [
            "7/3\n",
            "\\dfrac{7}{3}\n"
          ],
          "name": "stdout"
        }
      ]
    },
    {
      "cell_type": "code",
      "metadata": {
        "id": "QP85k0IgCavQ"
      },
      "source": [
        ""
      ],
      "execution_count": null,
      "outputs": []
    }
  ]
}