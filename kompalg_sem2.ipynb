{
  "nbformat": 4,
  "nbformat_minor": 0,
  "metadata": {
    "colab": {
      "name": "Untitled0.ipynb",
      "provenance": [],
      "collapsed_sections": [],
      "authorship_tag": "ABX9TyNzRp/0VVeoU5aBiEwnONbt",
      "include_colab_link": true
    },
    "kernelspec": {
      "name": "python3",
      "display_name": "Python 3"
    }
  },
  "cells": [
    {
      "cell_type": "markdown",
      "metadata": {
        "id": "view-in-github",
        "colab_type": "text"
      },
      "source": [
        "<a href=\"https://colab.research.google.com/github/t1g3pf4c3/kompalg/blob/main/kompalg_sem2.ipynb\" target=\"_parent\"><img src=\"https://colab.research.google.com/assets/colab-badge.svg\" alt=\"Open In Colab\"/></a>"
      ]
    },
    {
      "cell_type": "code",
      "metadata": {
        "id": "4KfrcQ01GuKf"
      },
      "source": [
        "class Polynominal:\r\n",
        "  def __init__(self, mas):\r\n",
        "    self.mas = mas\r\n",
        "  def __str__(self):\r\n",
        "    s = \"\"\r\n",
        "    for i in range(len(self.mas)):\r\n",
        "      if i == 0:\r\n",
        "        s+= str(self.mas[i]) + \"x^\" + str(len(self.mas) - i - 1)\r\n",
        "      elif self.mas[i] != 0:\r\n",
        "        s+=  \" + \" + str(self.mas[i]) + \"x^\" + str(len(self.mas) - i - 1)\r\n",
        "      elif self.mas[i] == 0:\r\n",
        "          s+= \"\"\r\n",
        "      elif len(self.mas) - i - 1 == 0:\r\n",
        "        s+= str(self.mas[i])      \r\n",
        "    return s"
      ],
      "execution_count": 73,
      "outputs": []
    },
    {
      "cell_type": "code",
      "metadata": {
        "colab": {
          "base_uri": "https://localhost:8080/"
        },
        "id": "ctUEDTHVKQ1g",
        "outputId": "9765dc88-4aa7-4017-d2ea-aff9667d3d27"
      },
      "source": [
        "a = Polynominal([1,2,3, 0, 5, 0])\r\n",
        "print(a)"
      ],
      "execution_count": 74,
      "outputs": [
        {
          "output_type": "stream",
          "text": [
            "1x^5 + 2x^4 + 3x^3 + 5x^1\n"
          ],
          "name": "stdout"
        }
      ]
    },
    {
      "cell_type": "code",
      "metadata": {
        "id": "a5Zl10a9KeyX"
      },
      "source": [
        ""
      ],
      "execution_count": null,
      "outputs": []
    }
  ]
}