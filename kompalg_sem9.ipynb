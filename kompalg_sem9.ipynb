{
  "nbformat": 4,
  "nbformat_minor": 0,
  "metadata": {
    "colab": {
      "name": "Untitled8.ipynb",
      "provenance": [],
      "authorship_tag": "ABX9TyPBwUh3blvav0g2CYMu289r",
      "include_colab_link": true
    },
    "kernelspec": {
      "name": "python3",
      "display_name": "Python 3"
    },
    "language_info": {
      "name": "python"
    }
  },
  "cells": [
    {
      "cell_type": "markdown",
      "metadata": {
        "id": "view-in-github",
        "colab_type": "text"
      },
      "source": [
        "<a href=\"https://colab.research.google.com/github/t1g3pf4c3/kompalg/blob/main/kompalg_sem9.ipynb\" target=\"_parent\"><img src=\"https://colab.research.google.com/assets/colab-badge.svg\" alt=\"Open In Colab\"/></a>"
      ]
    },
    {
      "cell_type": "code",
      "metadata": {
        "id": "AwbCzSZrZQ_Y"
      },
      "source": [
        "from sympy import *\n",
        "\n",
        "a, b = symbols(\"a b\")\n",
        "x, y = symbols(\"x y\")\n",
        "n = symbols(\"n\")"
      ],
      "execution_count": 4,
      "outputs": []
    },
    {
      "cell_type": "code",
      "metadata": {
        "colab": {
          "base_uri": "https://localhost:8080/",
          "height": 37
        },
        "id": "jc-pPeXeacUv",
        "outputId": "5ddc888b-21fa-4715-c730-1c96e1c1791c"
      },
      "source": [
        "# Выражения\n",
        "\n",
        "simplify((8*(100**n))/(2**(2*n+1)*(5**(2*n-2))))"
      ],
      "execution_count": 10,
      "outputs": [
        {
          "output_type": "execute_result",
          "data": {
            "text/latex": "$\\displaystyle 100$",
            "text/plain": [
              "100"
            ]
          },
          "metadata": {
            "tags": []
          },
          "execution_count": 10
        }
      ]
    },
    {
      "cell_type": "code",
      "metadata": {
        "colab": {
          "base_uri": "https://localhost:8080/",
          "height": 51
        },
        "id": "I7pDIGclbaDP",
        "outputId": "ff6d9a81-7236-442e-a46f-b4e4e0be69e6"
      },
      "source": [
        "\n",
        "simplify((5*x**2-12*x+4)/(6-15*x))"
      ],
      "execution_count": 11,
      "outputs": [
        {
          "output_type": "execute_result",
          "data": {
            "text/latex": "$\\displaystyle \\frac{2}{3} - \\frac{x}{3}$",
            "text/plain": [
              "2/3 - x/3"
            ]
          },
          "metadata": {
            "tags": []
          },
          "execution_count": 11
        }
      ]
    },
    {
      "cell_type": "code",
      "metadata": {
        "colab": {
          "base_uri": "https://localhost:8080/",
          "height": 54
        },
        "id": "iiHBrC7rbyNZ",
        "outputId": "964978cd-7a1e-44d3-b0dc-511cce7e2ce5"
      },
      "source": [
        "\n",
        "simplify((x**2-10*x*y+25*y**2-1)/((1-x+5*y)*(x+5*y+1)))"
      ],
      "execution_count": 12,
      "outputs": [
        {
          "output_type": "execute_result",
          "data": {
            "text/latex": "$\\displaystyle \\frac{- x + 5 y - 1}{x + 5 y + 1}$",
            "text/plain": [
              "(-x + 5*y - 1)/(x + 5*y + 1)"
            ]
          },
          "metadata": {
            "tags": []
          },
          "execution_count": 12
        }
      ]
    },
    {
      "cell_type": "code",
      "metadata": {
        "colab": {
          "base_uri": "https://localhost:8080/",
          "height": 38
        },
        "id": "HenjVGP0cMVf",
        "outputId": "31559c93-f13e-4a8f-d560-cca6be510750"
      },
      "source": [
        "\n",
        "simplify((((36-y**2)/(y-8))*((y/(y-6)-2*y/(y**2-12*y+36)))) + 12*y/(y-6))"
      ],
      "execution_count": 20,
      "outputs": [
        {
          "output_type": "execute_result",
          "data": {
            "text/latex": "$\\displaystyle - y$",
            "text/plain": [
              "-y"
            ]
          },
          "metadata": {
            "tags": []
          },
          "execution_count": 20
        }
      ]
    },
    {
      "cell_type": "code",
      "metadata": {
        "colab": {
          "base_uri": "https://localhost:8080/"
        },
        "id": "Oz-Bw-DNdYts",
        "outputId": "12867c91-a832-4a10-bd2a-22257117c2f0"
      },
      "source": [
        "#Уравнения\n",
        "\n",
        "solve(Eq(((x-2)**2)*(x-3),12*(x-2)))"
      ],
      "execution_count": 28,
      "outputs": [
        {
          "output_type": "execute_result",
          "data": {
            "text/plain": [
              "[-1, 2, 6]"
            ]
          },
          "metadata": {
            "tags": []
          },
          "execution_count": 28
        }
      ]
    },
    {
      "cell_type": "code",
      "metadata": {
        "colab": {
          "base_uri": "https://localhost:8080/"
        },
        "id": "A7Wic2qAeydH",
        "outputId": "aba32b98-cff1-4b7a-add3-350699643ccc"
      },
      "source": [
        "solve(Eq(6/(1-2*x)+9/(1+2*x)-(12*x*x-15)/(4*x*x-1),0))\n"
      ],
      "execution_count": 30,
      "outputs": [
        {
          "output_type": "execute_result",
          "data": {
            "text/plain": [
              "[0]"
            ]
          },
          "metadata": {
            "tags": []
          },
          "execution_count": 30
        }
      ]
    },
    {
      "cell_type": "code",
      "metadata": {
        "colab": {
          "base_uri": "https://localhost:8080/"
        },
        "id": "GwfrbZ6xe8IT",
        "outputId": "8e4f8089-bfb7-46c1-d567-087b21a91966"
      },
      "source": [
        "solve(Eq(1/(x+6)+2/(x-2),2/(x-6)))"
      ],
      "execution_count": 31,
      "outputs": [
        {
          "output_type": "execute_result",
          "data": {
            "text/plain": [
              "[-2, 18]"
            ]
          },
          "metadata": {
            "tags": []
          },
          "execution_count": 31
        }
      ]
    },
    {
      "cell_type": "code",
      "metadata": {
        "colab": {
          "base_uri": "https://localhost:8080/"
        },
        "id": "o_hJHfLEfAE7",
        "outputId": "44727cef-c6c3-4085-ce30-a1dc4e17234b"
      },
      "source": [
        "solve(Eq(7/(x-3)+1/(x+6),5/(x-6)))"
      ],
      "execution_count": 32,
      "outputs": [
        {
          "output_type": "execute_result",
          "data": {
            "text/plain": [
              "[-4, 12]"
            ]
          },
          "metadata": {
            "tags": []
          },
          "execution_count": 32
        }
      ]
    },
    {
      "cell_type": "code",
      "metadata": {
        "colab": {
          "base_uri": "https://localhost:8080/"
        },
        "id": "cgRU699CfJc2",
        "outputId": "dedce207-2073-432a-bcb3-19cbde5df9a0"
      },
      "source": [
        "solve(Eq((6*x-18)/(x**2-9)+2*x-7, 0))"
      ],
      "execution_count": 33,
      "outputs": [
        {
          "output_type": "execute_result",
          "data": {
            "text/plain": [
              "[-5/2]"
            ]
          },
          "metadata": {
            "tags": []
          },
          "execution_count": 33
        }
      ]
    },
    {
      "cell_type": "code",
      "metadata": {
        "colab": {
          "base_uri": "https://localhost:8080/",
          "height": 58
        },
        "id": "8AgJY-OTfXQm",
        "outputId": "9f78d989-d8d1-4839-f083-052ae1d829d5"
      },
      "source": [
        "#Системы уравнений\n",
        "nonlinsolve([Eq(3*x ** 2 - 2*x- y, 0), Eq(3*x - 2 - y, 0)], [x,y])"
      ],
      "execution_count": 34,
      "outputs": [
        {
          "output_type": "execute_result",
          "data": {
            "text/latex": "$\\displaystyle \\left\\{\\left( \\frac{2}{3}, \\  0\\right), \\left( 1, \\  1\\right)\\right\\}$",
            "text/plain": [
              "FiniteSet((2/3, 0), (1, 1))"
            ]
          },
          "metadata": {
            "tags": []
          },
          "execution_count": 34
        }
      ]
    },
    {
      "cell_type": "code",
      "metadata": {
        "colab": {
          "base_uri": "https://localhost:8080/",
          "height": 48
        },
        "id": "3pWlHd8wfhu4",
        "outputId": "ea4eb02f-db09-4d8d-b810-ab4ed5bbc836"
      },
      "source": [
        "nonlinsolve([Eq(x ** 2 - 7*y- 2, 0), Eq(x**2 + 2 - 7*y - y*y, 0)], [x,y])"
      ],
      "execution_count": 35,
      "outputs": [
        {
          "output_type": "execute_result",
          "data": {
            "text/latex": "$\\displaystyle \\left\\{\\left( -4, \\  2\\right), \\left( 4, \\  2\\right), \\left( - 2 \\sqrt{3} i, \\  -2\\right), \\left( 2 \\sqrt{3} i, \\  -2\\right)\\right\\}$",
            "text/plain": [
              "FiniteSet((-4, 2), (4, 2), (-2*sqrt(3)*I, -2), (2*sqrt(3)*I, -2))"
            ]
          },
          "metadata": {
            "tags": []
          },
          "execution_count": 35
        }
      ]
    },
    {
      "cell_type": "code",
      "metadata": {
        "colab": {
          "base_uri": "https://localhost:8080/",
          "height": 48
        },
        "id": "8x96R_DXfk-L",
        "outputId": "e7fb94cf-7ca8-4c34-a450-53b19e74fed5"
      },
      "source": [
        "nonlinsolve([Eq(x ** 2 - 6*y-7, 0), Eq(x**2 + 2 - 6*y - y*y, 0)], [x,y])"
      ],
      "execution_count": 36,
      "outputs": [
        {
          "output_type": "execute_result",
          "data": {
            "text/latex": "$\\displaystyle \\left\\{\\left( -5, \\  3\\right), \\left( 5, \\  3\\right), \\left( - \\sqrt{11} i, \\  -3\\right), \\left( \\sqrt{11} i, \\  -3\\right)\\right\\}$",
            "text/plain": [
              "FiniteSet((-5, 3), (5, 3), (sqrt(11)*I, -3), (-sqrt(11)*I, -3))"
            ]
          },
          "metadata": {
            "tags": []
          },
          "execution_count": 36
        }
      ]
    },
    {
      "cell_type": "code",
      "metadata": {
        "colab": {
          "base_uri": "https://localhost:8080/",
          "height": 37
        },
        "id": "ZakGIsqQfnX_",
        "outputId": "bb14721c-9190-4aa7-db1d-2454d106649f"
      },
      "source": [
        "#Неравенства\n",
        "display(solveset(Gt((4 * x  - 7 )**2, (7*x-4)**2), domain=S.Reals))"
      ],
      "execution_count": 39,
      "outputs": [
        {
          "output_type": "display_data",
          "data": {
            "text/latex": "$\\displaystyle \\left(-1, 1\\right)$",
            "text/plain": [
              "Interval.open(-1, 1)"
            ]
          },
          "metadata": {
            "tags": []
          }
        }
      ]
    },
    {
      "cell_type": "code",
      "metadata": {
        "colab": {
          "base_uri": "https://localhost:8080/",
          "height": 58
        },
        "id": "kSEbISshgFFb",
        "outputId": "497369db-6417-4784-fe70-aae2057a81cf"
      },
      "source": [
        "display(solveset(Gt((2 * x + 1)* (x - 1), 9), domain=S.Reals))"
      ],
      "execution_count": 40,
      "outputs": [
        {
          "output_type": "display_data",
          "data": {
            "text/latex": "$\\displaystyle \\left(-\\infty, -2\\right) \\cup \\left(\\frac{5}{2}, \\infty\\right)$",
            "text/plain": [
              "Union(Interval.open(-oo, -2), Interval.open(5/2, oo))"
            ]
          },
          "metadata": {
            "tags": []
          }
        }
      ]
    },
    {
      "cell_type": "code",
      "metadata": {
        "colab": {
          "base_uri": "https://localhost:8080/",
          "height": 37
        },
        "id": "bW04nlqQgUZp",
        "outputId": "d3914f44-a8fd-4c52-ccec-c94dae68ca88"
      },
      "source": [
        "#Системы неравенств\n",
        "\n",
        "s1 = solveset(Lt(4 * x**2 + 9*x - 9, 0), domain=S.Reals)\n",
        "s2 = solveset(Lt((x+1)/2, 0), domain=S.Reals)\n",
        "Intersection(s1, s2)"
      ],
      "execution_count": 41,
      "outputs": [
        {
          "output_type": "execute_result",
          "data": {
            "text/latex": "$\\displaystyle \\left(-3, -1\\right)$",
            "text/plain": [
              "Interval.open(-3, -1)"
            ]
          },
          "metadata": {
            "tags": []
          },
          "execution_count": 41
        }
      ]
    },
    {
      "cell_type": "code",
      "metadata": {
        "colab": {
          "base_uri": "https://localhost:8080/",
          "height": 58
        },
        "id": "kQ0KN6MmgeoZ",
        "outputId": "94612578-bb70-45b8-cd2c-0d4b11d0267b"
      },
      "source": [
        "s1 = solveset(Lt(6 * x**2 + 7*x - 24, 0), domain=S.Reals)\n",
        "s2 = solveset(Gt((1-x)/2, 0), domain=S.Reals)\n",
        "Intersection(s1, s2)"
      ],
      "execution_count": 42,
      "outputs": [
        {
          "output_type": "execute_result",
          "data": {
            "text/latex": "$\\displaystyle \\left(- \\frac{8}{3}, 1\\right)$",
            "text/plain": [
              "Interval.open(-8/3, 1)"
            ]
          },
          "metadata": {
            "tags": []
          },
          "execution_count": 42
        }
      ]
    },
    {
      "cell_type": "code",
      "metadata": {
        "id": "xwOLHwUJgg5o"
      },
      "source": [
        ""
      ],
      "execution_count": null,
      "outputs": []
    }
  ]
}